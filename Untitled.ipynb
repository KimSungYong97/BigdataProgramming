{
 "cells": [
  {
   "cell_type": "code",
   "execution_count": 6,
   "metadata": {},
   "outputs": [],
   "source": [
    "%matplotlib inline\n",
    "import pandas as pd                # 데이터를 저장하고 처리하는 패키지\n",
    "import matplotlib\n",
    "import matplotlib as mpl           # 그래프를 그리는 패키지\n",
    "import matplotlib.pyplot as plt    # 그래프를 그리는 패키지\n",
    "import numpy as np\n",
    "from sklearn.linear_model import LinearRegression\n",
    "import seaborn as sns\n",
    "matplotlib.rc('font', family='Malgun Gothic') \n",
    "matplotlib.rcParams['axes.unicode_minus'] = False"
   ]
  },
  {
   "cell_type": "code",
   "execution_count": 7,
   "metadata": {},
   "outputs": [
    {
     "data": {
      "text/html": [
       "<div>\n",
       "<style scoped>\n",
       "    .dataframe tbody tr th:only-of-type {\n",
       "        vertical-align: middle;\n",
       "    }\n",
       "\n",
       "    .dataframe tbody tr th {\n",
       "        vertical-align: top;\n",
       "    }\n",
       "\n",
       "    .dataframe thead th {\n",
       "        text-align: right;\n",
       "    }\n",
       "</style>\n",
       "<table border=\"1\" class=\"dataframe\">\n",
       "  <thead>\n",
       "    <tr style=\"text-align: right;\">\n",
       "      <th></th>\n",
       "      <th>population</th>\n",
       "      <th>km2</th>\n",
       "      <th>인구밀도</th>\n",
       "      <th>이주율</th>\n",
       "      <th>집값상승률</th>\n",
       "      <th>미국집값</th>\n",
       "    </tr>\n",
       "    <tr>\n",
       "      <th>state</th>\n",
       "      <th></th>\n",
       "      <th></th>\n",
       "      <th></th>\n",
       "      <th></th>\n",
       "      <th></th>\n",
       "      <th></th>\n",
       "    </tr>\n",
       "  </thead>\n",
       "  <tbody>\n",
       "    <tr>\n",
       "      <th>Alabama</th>\n",
       "      <td>4903185</td>\n",
       "      <td>131171</td>\n",
       "      <td>37.380099</td>\n",
       "      <td>1.91</td>\n",
       "      <td>59.00</td>\n",
       "      <td>146534.0</td>\n",
       "    </tr>\n",
       "    <tr>\n",
       "      <th>Alaska</th>\n",
       "      <td>731545</td>\n",
       "      <td>1477953</td>\n",
       "      <td>0.494972</td>\n",
       "      <td>-12.96</td>\n",
       "      <td>67.41</td>\n",
       "      <td>311194.0</td>\n",
       "    </tr>\n",
       "    <tr>\n",
       "      <th>Arizona</th>\n",
       "      <td>7278717</td>\n",
       "      <td>294207</td>\n",
       "      <td>24.740122</td>\n",
       "      <td>12.50</td>\n",
       "      <td>213.65</td>\n",
       "      <td>290075.0</td>\n",
       "    </tr>\n",
       "    <tr>\n",
       "      <th>Arkansas</th>\n",
       "      <td>3017825</td>\n",
       "      <td>134771</td>\n",
       "      <td>22.392243</td>\n",
       "      <td>0.83</td>\n",
       "      <td>70.46</td>\n",
       "      <td>131577.0</td>\n",
       "    </tr>\n",
       "    <tr>\n",
       "      <th>California</th>\n",
       "      <td>39512223</td>\n",
       "      <td>403466</td>\n",
       "      <td>97.931977</td>\n",
       "      <td>-5.15</td>\n",
       "      <td>168.12</td>\n",
       "      <td>346944.0</td>\n",
       "    </tr>\n",
       "    <tr>\n",
       "      <th>Colorado</th>\n",
       "      <td>5758736</td>\n",
       "      <td>268431</td>\n",
       "      <td>21.453319</td>\n",
       "      <td>5.44</td>\n",
       "      <td>262.82</td>\n",
       "      <td>422369.0</td>\n",
       "    </tr>\n",
       "    <tr>\n",
       "      <th>Connecticut</th>\n",
       "      <td>3565287</td>\n",
       "      <td>12542</td>\n",
       "      <td>284.267820</td>\n",
       "      <td>-6.19</td>\n",
       "      <td>49.48</td>\n",
       "      <td>278008.0</td>\n",
       "    </tr>\n",
       "    <tr>\n",
       "      <th>Delaware</th>\n",
       "      <td>705749</td>\n",
       "      <td>5047</td>\n",
       "      <td>139.835348</td>\n",
       "      <td>7.15</td>\n",
       "      <td>53.96</td>\n",
       "      <td>264627.0</td>\n",
       "    </tr>\n",
       "    <tr>\n",
       "      <th>D.C</th>\n",
       "      <td>973764</td>\n",
       "      <td>158</td>\n",
       "      <td>6163.063291</td>\n",
       "      <td>-3.12</td>\n",
       "      <td>263.22</td>\n",
       "      <td>NaN</td>\n",
       "    </tr>\n",
       "    <tr>\n",
       "      <th>Florida</th>\n",
       "      <td>21477737</td>\n",
       "      <td>138887</td>\n",
       "      <td>154.641810</td>\n",
       "      <td>6.23</td>\n",
       "      <td>165.39</td>\n",
       "      <td>266350.0</td>\n",
       "    </tr>\n",
       "    <tr>\n",
       "      <th>Georgia</th>\n",
       "      <td>10617423</td>\n",
       "      <td>148959</td>\n",
       "      <td>71.277486</td>\n",
       "      <td>4.68</td>\n",
       "      <td>110.63</td>\n",
       "      <td>208466.0</td>\n",
       "    </tr>\n",
       "    <tr>\n",
       "      <th>Hawaii</th>\n",
       "      <td>1415872</td>\n",
       "      <td>16635</td>\n",
       "      <td>85.114037</td>\n",
       "      <td>-9.76</td>\n",
       "      <td>147.16</td>\n",
       "      <td>727931.0</td>\n",
       "    </tr>\n",
       "    <tr>\n",
       "      <th>Idaho</th>\n",
       "      <td>1787065</td>\n",
       "      <td>214045</td>\n",
       "      <td>8.349015</td>\n",
       "      <td>15.31</td>\n",
       "      <td>274.75</td>\n",
       "      <td>304036.0</td>\n",
       "    </tr>\n",
       "    <tr>\n",
       "      <th>Illinois</th>\n",
       "      <td>12671821</td>\n",
       "      <td>143793</td>\n",
       "      <td>88.125437</td>\n",
       "      <td>-8.28</td>\n",
       "      <td>53.48</td>\n",
       "      <td>205201.0</td>\n",
       "    </tr>\n",
       "    <tr>\n",
       "      <th>Indiana</th>\n",
       "      <td>6732219</td>\n",
       "      <td>92789</td>\n",
       "      <td>72.554064</td>\n",
       "      <td>0.59</td>\n",
       "      <td>97.66</td>\n",
       "      <td>161291.0</td>\n",
       "    </tr>\n",
       "    <tr>\n",
       "      <th>Iowa</th>\n",
       "      <td>3155070</td>\n",
       "      <td>144669</td>\n",
       "      <td>21.808888</td>\n",
       "      <td>-1.59</td>\n",
       "      <td>80.66</td>\n",
       "      <td>157261.0</td>\n",
       "    </tr>\n",
       "    <tr>\n",
       "      <th>Kansas</th>\n",
       "      <td>2913314</td>\n",
       "      <td>211754</td>\n",
       "      <td>13.758012</td>\n",
       "      <td>-4.24</td>\n",
       "      <td>95.29</td>\n",
       "      <td>154777.0</td>\n",
       "    </tr>\n",
       "    <tr>\n",
       "      <th>Kentucky</th>\n",
       "      <td>4467673</td>\n",
       "      <td>102269</td>\n",
       "      <td>43.685506</td>\n",
       "      <td>-0.34</td>\n",
       "      <td>88.47</td>\n",
       "      <td>150877.0</td>\n",
       "    </tr>\n",
       "    <tr>\n",
       "      <th>Louisiana</th>\n",
       "      <td>4648794</td>\n",
       "      <td>111898</td>\n",
       "      <td>41.544925</td>\n",
       "      <td>-5.60</td>\n",
       "      <td>62.68</td>\n",
       "      <td>171948.0</td>\n",
       "    </tr>\n",
       "    <tr>\n",
       "      <th>Maine</th>\n",
       "      <td>1344212</td>\n",
       "      <td>79883</td>\n",
       "      <td>16.827260</td>\n",
       "      <td>4.92</td>\n",
       "      <td>108.03</td>\n",
       "      <td>252014.0</td>\n",
       "    </tr>\n",
       "    <tr>\n",
       "      <th>Maryland</th>\n",
       "      <td>6045680</td>\n",
       "      <td>25142</td>\n",
       "      <td>240.461379</td>\n",
       "      <td>-3.91</td>\n",
       "      <td>66.32</td>\n",
       "      <td>327604.0</td>\n",
       "    </tr>\n",
       "    <tr>\n",
       "      <th>Massachusetts</th>\n",
       "      <td>6949503</td>\n",
       "      <td>20202</td>\n",
       "      <td>344.000743</td>\n",
       "      <td>-4.36</td>\n",
       "      <td>152.00</td>\n",
       "      <td>447367.0</td>\n",
       "    </tr>\n",
       "    <tr>\n",
       "      <th>Michigan</th>\n",
       "      <td>9986857</td>\n",
       "      <td>146435</td>\n",
       "      <td>68.199932</td>\n",
       "      <td>-2.37</td>\n",
       "      <td>134.54</td>\n",
       "      <td>177403.0</td>\n",
       "    </tr>\n",
       "    <tr>\n",
       "      <th>Minnesota</th>\n",
       "      <td>5639632</td>\n",
       "      <td>206232</td>\n",
       "      <td>27.346057</td>\n",
       "      <td>0.01</td>\n",
       "      <td>131.51</td>\n",
       "      <td>270308.0</td>\n",
       "    </tr>\n",
       "    <tr>\n",
       "      <th>Mississippi</th>\n",
       "      <td>2976149</td>\n",
       "      <td>121531</td>\n",
       "      <td>24.488805</td>\n",
       "      <td>-3.61</td>\n",
       "      <td>60.47</td>\n",
       "      <td>126294.0</td>\n",
       "    </tr>\n",
       "    <tr>\n",
       "      <th>Missouri</th>\n",
       "      <td>6137428</td>\n",
       "      <td>178040</td>\n",
       "      <td>34.472186</td>\n",
       "      <td>-0.12</td>\n",
       "      <td>94.88</td>\n",
       "      <td>168392.0</td>\n",
       "    </tr>\n",
       "    <tr>\n",
       "      <th>Montana</th>\n",
       "      <td>1068778</td>\n",
       "      <td>376962</td>\n",
       "      <td>2.835241</td>\n",
       "      <td>5.64</td>\n",
       "      <td>193.77</td>\n",
       "      <td>293244.0</td>\n",
       "    </tr>\n",
       "    <tr>\n",
       "      <th>Nebraska</th>\n",
       "      <td>1934408</td>\n",
       "      <td>198974</td>\n",
       "      <td>9.721913</td>\n",
       "      <td>-2.18</td>\n",
       "      <td>121.45</td>\n",
       "      <td>180496.0</td>\n",
       "    </tr>\n",
       "    <tr>\n",
       "      <th>Nevada</th>\n",
       "      <td>3080156</td>\n",
       "      <td>284332</td>\n",
       "      <td>10.832956</td>\n",
       "      <td>14.03</td>\n",
       "      <td>162.14</td>\n",
       "      <td>322809.0</td>\n",
       "    </tr>\n",
       "    <tr>\n",
       "      <th>New Hampshire</th>\n",
       "      <td>1359711</td>\n",
       "      <td>23187</td>\n",
       "      <td>58.641092</td>\n",
       "      <td>3.29</td>\n",
       "      <td>120.83</td>\n",
       "      <td>345079.0</td>\n",
       "    </tr>\n",
       "    <tr>\n",
       "      <th>New Jersey</th>\n",
       "      <td>8882190</td>\n",
       "      <td>19047</td>\n",
       "      <td>466.330131</td>\n",
       "      <td>-5.51</td>\n",
       "      <td>61.45</td>\n",
       "      <td>355423.0</td>\n",
       "    </tr>\n",
       "    <tr>\n",
       "      <th>New Mexico</th>\n",
       "      <td>2096829</td>\n",
       "      <td>314161</td>\n",
       "      <td>6.674377</td>\n",
       "      <td>-1.02</td>\n",
       "      <td>77.68</td>\n",
       "      <td>215378.0</td>\n",
       "    </tr>\n",
       "    <tr>\n",
       "      <th>New York</th>\n",
       "      <td>19453561</td>\n",
       "      <td>122057</td>\n",
       "      <td>159.380953</td>\n",
       "      <td>-9.29</td>\n",
       "      <td>79.78</td>\n",
       "      <td>275426.0</td>\n",
       "    </tr>\n",
       "    <tr>\n",
       "      <th>North Carolina</th>\n",
       "      <td>10488084</td>\n",
       "      <td>125920</td>\n",
       "      <td>83.291645</td>\n",
       "      <td>6.42</td>\n",
       "      <td>90.59</td>\n",
       "      <td>212247.0</td>\n",
       "    </tr>\n",
       "    <tr>\n",
       "      <th>North Dakota</th>\n",
       "      <td>762062</td>\n",
       "      <td>178711</td>\n",
       "      <td>4.264214</td>\n",
       "      <td>-1.66</td>\n",
       "      <td>137.03</td>\n",
       "      <td>241803.0</td>\n",
       "    </tr>\n",
       "    <tr>\n",
       "      <th>Ohio</th>\n",
       "      <td>11689100</td>\n",
       "      <td>105829</td>\n",
       "      <td>110.452711</td>\n",
       "      <td>-1.10</td>\n",
       "      <td>88.34</td>\n",
       "      <td>157386.0</td>\n",
       "    </tr>\n",
       "    <tr>\n",
       "      <th>Oklahoma</th>\n",
       "      <td>3956971</td>\n",
       "      <td>177660</td>\n",
       "      <td>22.272718</td>\n",
       "      <td>0.97</td>\n",
       "      <td>71.62</td>\n",
       "      <td>134995.0</td>\n",
       "    </tr>\n",
       "    <tr>\n",
       "      <th>Oregon</th>\n",
       "      <td>4217737</td>\n",
       "      <td>248608</td>\n",
       "      <td>16.965411</td>\n",
       "      <td>6.12</td>\n",
       "      <td>261.90</td>\n",
       "      <td>377275.0</td>\n",
       "    </tr>\n",
       "    <tr>\n",
       "      <th>Pennsylvania</th>\n",
       "      <td>12801989</td>\n",
       "      <td>115883</td>\n",
       "      <td>110.473400</td>\n",
       "      <td>-1.53</td>\n",
       "      <td>73.30</td>\n",
       "      <td>201300.0</td>\n",
       "    </tr>\n",
       "    <tr>\n",
       "      <th>Rhode Island</th>\n",
       "      <td>1059361</td>\n",
       "      <td>2678</td>\n",
       "      <td>395.579164</td>\n",
       "      <td>-3.03</td>\n",
       "      <td>118.37</td>\n",
       "      <td>317918.0</td>\n",
       "    </tr>\n",
       "    <tr>\n",
       "      <th>South Carolina</th>\n",
       "      <td>5148714</td>\n",
       "      <td>77857</td>\n",
       "      <td>66.130393</td>\n",
       "      <td>10.30</td>\n",
       "      <td>92.45</td>\n",
       "      <td>195761.0</td>\n",
       "    </tr>\n",
       "    <tr>\n",
       "      <th>South Dakota</th>\n",
       "      <td>884659</td>\n",
       "      <td>196350</td>\n",
       "      <td>4.505521</td>\n",
       "      <td>1.09</td>\n",
       "      <td>131.37</td>\n",
       "      <td>217789.0</td>\n",
       "    </tr>\n",
       "    <tr>\n",
       "      <th>Tennessee</th>\n",
       "      <td>6833174</td>\n",
       "      <td>106798</td>\n",
       "      <td>63.982228</td>\n",
       "      <td>5.27</td>\n",
       "      <td>132.39</td>\n",
       "      <td>191164.0</td>\n",
       "    </tr>\n",
       "    <tr>\n",
       "      <th>Texas</th>\n",
       "      <td>28995881</td>\n",
       "      <td>676587</td>\n",
       "      <td>42.856101</td>\n",
       "      <td>4.33</td>\n",
       "      <td>131.38</td>\n",
       "      <td>213666.0</td>\n",
       "    </tr>\n",
       "    <tr>\n",
       "      <th>Utah</th>\n",
       "      <td>3205958</td>\n",
       "      <td>212818</td>\n",
       "      <td>15.064318</td>\n",
       "      <td>4.86</td>\n",
       "      <td>292.74</td>\n",
       "      <td>365960.0</td>\n",
       "    </tr>\n",
       "    <tr>\n",
       "      <th>Vermont</th>\n",
       "      <td>623989</td>\n",
       "      <td>23871</td>\n",
       "      <td>26.140044</td>\n",
       "      <td>-1.09</td>\n",
       "      <td>65.81</td>\n",
       "      <td>269754.0</td>\n",
       "    </tr>\n",
       "    <tr>\n",
       "      <th>Virginia</th>\n",
       "      <td>8535519</td>\n",
       "      <td>102279</td>\n",
       "      <td>83.453290</td>\n",
       "      <td>-1.07</td>\n",
       "      <td>95.88</td>\n",
       "      <td>295926.0</td>\n",
       "    </tr>\n",
       "    <tr>\n",
       "      <th>Washington</th>\n",
       "      <td>7614893</td>\n",
       "      <td>172119</td>\n",
       "      <td>44.242024</td>\n",
       "      <td>4.92</td>\n",
       "      <td>237.41</td>\n",
       "      <td>289328.0</td>\n",
       "    </tr>\n",
       "    <tr>\n",
       "      <th>West Virginia</th>\n",
       "      <td>1792147</td>\n",
       "      <td>62259</td>\n",
       "      <td>28.785348</td>\n",
       "      <td>-3.95</td>\n",
       "      <td>73.73</td>\n",
       "      <td>106840.0</td>\n",
       "    </tr>\n",
       "    <tr>\n",
       "      <th>Wisconsin</th>\n",
       "      <td>5822434</td>\n",
       "      <td>140268</td>\n",
       "      <td>41.509354</td>\n",
       "      <td>-0.25</td>\n",
       "      <td>107.05</td>\n",
       "      <td>207906.0</td>\n",
       "    </tr>\n",
       "    <tr>\n",
       "      <th>Wyoming</th>\n",
       "      <td>578759</td>\n",
       "      <td>251470</td>\n",
       "      <td>2.301503</td>\n",
       "      <td>-1.75</td>\n",
       "      <td>122.86</td>\n",
       "      <td>254065.0</td>\n",
       "    </tr>\n",
       "  </tbody>\n",
       "</table>\n",
       "</div>"
      ],
      "text/plain": [
       "                population      km2         인구밀도    이주율   집값상승률      미국집값\n",
       "state                                                                    \n",
       "Alabama            4903185   131171    37.380099   1.91   59.00  146534.0\n",
       "Alaska              731545  1477953     0.494972 -12.96   67.41  311194.0\n",
       "Arizona            7278717   294207    24.740122  12.50  213.65  290075.0\n",
       "Arkansas           3017825   134771    22.392243   0.83   70.46  131577.0\n",
       "California        39512223   403466    97.931977  -5.15  168.12  346944.0\n",
       "Colorado           5758736   268431    21.453319   5.44  262.82  422369.0\n",
       "Connecticut        3565287    12542   284.267820  -6.19   49.48  278008.0\n",
       "Delaware            705749     5047   139.835348   7.15   53.96  264627.0\n",
       "D.C                 973764      158  6163.063291  -3.12  263.22       NaN\n",
       "Florida           21477737   138887   154.641810   6.23  165.39  266350.0\n",
       "Georgia           10617423   148959    71.277486   4.68  110.63  208466.0\n",
       "Hawaii             1415872    16635    85.114037  -9.76  147.16  727931.0\n",
       "Idaho              1787065   214045     8.349015  15.31  274.75  304036.0\n",
       "Illinois          12671821   143793    88.125437  -8.28   53.48  205201.0\n",
       "Indiana            6732219    92789    72.554064   0.59   97.66  161291.0\n",
       "Iowa               3155070   144669    21.808888  -1.59   80.66  157261.0\n",
       "Kansas             2913314   211754    13.758012  -4.24   95.29  154777.0\n",
       "Kentucky           4467673   102269    43.685506  -0.34   88.47  150877.0\n",
       "Louisiana          4648794   111898    41.544925  -5.60   62.68  171948.0\n",
       "Maine              1344212    79883    16.827260   4.92  108.03  252014.0\n",
       "Maryland           6045680    25142   240.461379  -3.91   66.32  327604.0\n",
       "Massachusetts      6949503    20202   344.000743  -4.36  152.00  447367.0\n",
       "Michigan           9986857   146435    68.199932  -2.37  134.54  177403.0\n",
       "Minnesota          5639632   206232    27.346057   0.01  131.51  270308.0\n",
       "Mississippi        2976149   121531    24.488805  -3.61   60.47  126294.0\n",
       "Missouri           6137428   178040    34.472186  -0.12   94.88  168392.0\n",
       "Montana            1068778   376962     2.835241   5.64  193.77  293244.0\n",
       "Nebraska           1934408   198974     9.721913  -2.18  121.45  180496.0\n",
       "Nevada             3080156   284332    10.832956  14.03  162.14  322809.0\n",
       "New Hampshire      1359711    23187    58.641092   3.29  120.83  345079.0\n",
       "New Jersey         8882190    19047   466.330131  -5.51   61.45  355423.0\n",
       "New Mexico         2096829   314161     6.674377  -1.02   77.68  215378.0\n",
       "New York          19453561   122057   159.380953  -9.29   79.78  275426.0\n",
       "North Carolina    10488084   125920    83.291645   6.42   90.59  212247.0\n",
       "North Dakota        762062   178711     4.264214  -1.66  137.03  241803.0\n",
       "Ohio              11689100   105829   110.452711  -1.10   88.34  157386.0\n",
       "Oklahoma           3956971   177660    22.272718   0.97   71.62  134995.0\n",
       "Oregon             4217737   248608    16.965411   6.12  261.90  377275.0\n",
       "Pennsylvania      12801989   115883   110.473400  -1.53   73.30  201300.0\n",
       "Rhode Island       1059361     2678   395.579164  -3.03  118.37  317918.0\n",
       "South Carolina     5148714    77857    66.130393  10.30   92.45  195761.0\n",
       "South Dakota        884659   196350     4.505521   1.09  131.37  217789.0\n",
       "Tennessee          6833174   106798    63.982228   5.27  132.39  191164.0\n",
       "Texas             28995881   676587    42.856101   4.33  131.38  213666.0\n",
       "Utah               3205958   212818    15.064318   4.86  292.74  365960.0\n",
       "Vermont             623989    23871    26.140044  -1.09   65.81  269754.0\n",
       "Virginia           8535519   102279    83.453290  -1.07   95.88  295926.0\n",
       "Washington         7614893   172119    44.242024   4.92  237.41  289328.0\n",
       "West Virginia      1792147    62259    28.785348  -3.95   73.73  106840.0\n",
       "Wisconsin          5822434   140268    41.509354  -0.25  107.05  207906.0\n",
       "Wyoming             578759   251470     2.301503  -1.75  122.86  254065.0"
      ]
     },
     "execution_count": 7,
     "metadata": {},
     "output_type": "execute_result"
    }
   ],
   "source": [
    "미국면적 = pd.read_csv('미국 면적.csv',encoding='CP949')\n",
    "미국인구 = pd.read_csv('미국 인구.csv',encoding='CP949')\n",
    "미국집값상승률 = pd.read_csv('미국 집값 상승률.csv',encoding='CP949')\n",
    "미국집값 = pd.read_csv('미국 집값.csv',encoding='CP949')\n",
    "미국이주율 = pd.read_csv('미국이주율.csv',encoding='CP949')\n",
    "\n",
    "미국집값=미국집값.set_index('state')\n",
    "미국이주율=미국이주율.set_index('state')\n",
    "미국집값상승률=미국집값상승률.set_index('state')\n",
    "미국인구=미국인구.set_index('state')\n",
    "미국면적=미국면적.set_index('state')\n",
    "\n",
    "미국집값상승률1=미국집값상승률[미국집값상승률['period']=='2020-Q4']\n",
    "미국집값상승률2=미국집값상승률[미국집값상승률['period']=='2010-Q4']\n",
    "미국집값상승률=pd.DataFrame(미국집값상승률1['index_sa']-미국집값상승률2['index_sa'])\n",
    "\n",
    "\n",
    "미국데이터= pd.concat([(미국인구['population']),(미국면적['km2'])],axis=1)\n",
    "미국데이터['인구밀도']=미국데이터['population']/미국데이터['km2']\n",
    "미국데이터['이주율']=미국이주율['1000명당 이주율']\n",
    "미국데이터['집값상승률']=(미국집값상승률)\n",
    "미국데이터['미국집값']=미국집값['single-family']\n",
    "미국데이터"
   ]
  },
  {
   "cell_type": "code",
   "execution_count": 11,
   "metadata": {},
   "outputs": [
    {
     "name": "stderr",
     "output_type": "stream",
     "text": [
      "C:\\Users\\KimSungYong\\anaconda3\\lib\\site-packages\\seaborn\\_decorators.py:36: FutureWarning: Pass the following variables as keyword args: x, y. From version 0.12, the only valid positional argument will be `data`, and passing other arguments without an explicit keyword will result in an error or misinterpretation.\n",
      "  warnings.warn(\n"
     ]
    },
    {
     "data": {
      "image/png": "[encoded data removed]",
      "text/plain": [
       "<Figure size 360x360 with 1 Axes>"
      ]
     },
     "metadata": {
      "needs_background": "light"
     },
     "output_type": "display_data"
    }
   ],
   "source": [
    "data = pd.concat([(미국데이터['인구밀도']),(미국데이터['미국집값'])],axis=1)\n",
    "data.drop(data.index[8],inplace=True)\n",
    "data.drop(data.index[10],inplace=True)\n",
    "g=sns.lmplot('인구밀도','미국집값',data=data,fit_reg=True,scatter_kws={\"s\":150})\n",
    "plt.title(\"미국 인구밀도 & 집값\")\n",
    "plt.show(g)"
   ]
  },
  {
   "cell_type": "code",
   "execution_count": 12,
   "metadata": {},
   "outputs": [
    {
     "data": {
      "text/plain": [
       "<matplotlib.axes._subplots.AxesSubplot at 0x1cc935961f0>"
      ]
     },
     "execution_count": 12,
     "metadata": {},
     "output_type": "execute_result"
    },
    {
     "data": {
      "image/png": "[encoded data removed]",
      "text/plain": [
       "<Figure size 432x288 with 1 Axes>"
      ]
     },
     "metadata": {
      "needs_background": "light"
     },
     "output_type": "display_data"
    }
   ],
   "source": [
    "sns.histplot(x='미국집값', data=미국데이터)"
   ]
  },
  {
   "cell_type": "code",
   "execution_count": 28,
   "metadata": {},
   "outputs": [
    {
     "data": {
      "text/plain": [
       "<matplotlib.axes._subplots.AxesSubplot at 0x1cc938dd910>"
      ]
     },
     "execution_count": 28,
     "metadata": {},
     "output_type": "execute_result"
    },
    {
     "data": {
      "image/png": "[encoded data removed]",
      "text/plain": [
       "<Figure size 432x288 with 1 Axes>"
      ]
     },
     "metadata": {
      "needs_background": "light"
     },
     "output_type": "display_data"
    }
   ],
   "source": [
    "(미국데이터['미국집값']*미국데이터['population']).sort_values().plot(kind='bar')"
   ]
  },
  {
   "cell_type": "code",
   "execution_count": 31,
   "metadata": {},
   "outputs": [
    {
     "data": {
      "text/plain": [
       "253504.48069083004"
      ]
     },
     "execution_count": 31,
     "metadata": {},
     "output_type": "execute_result"
    }
   ],
   "source": [
    "(미국데이터['미국집값']*미국데이터['population']).sum()/(미국데이터['population'].sum())"
   ]
  },
  {
   "cell_type": "code",
   "execution_count": 35,
   "metadata": {},
   "outputs": [
    {
     "data": {
      "text/plain": [
       "state\n",
       "Alabama           146534.0\n",
       "Alaska            311194.0\n",
       "Arizona           290075.0\n",
       "Arkansas          131577.0\n",
       "California        346944.0\n",
       "Colorado          422369.0\n",
       "Connecticut       278008.0\n",
       "Delaware          264627.0\n",
       "D.C                    NaN\n",
       "Florida           266350.0\n",
       "Georgia           208466.0\n",
       "Hawaii            727931.0\n",
       "Idaho             304036.0\n",
       "Illinois          205201.0\n",
       "Indiana           161291.0\n",
       "Iowa              157261.0\n",
       "Kansas            154777.0\n",
       "Kentucky          150877.0\n",
       "Louisiana         171948.0\n",
       "Maine             252014.0\n",
       "Maryland          327604.0\n",
       "Massachusetts     447367.0\n",
       "Michigan          177403.0\n",
       "Minnesota         270308.0\n",
       "Mississippi       126294.0\n",
       "Missouri          168392.0\n",
       "Montana           293244.0\n",
       "Nebraska          180496.0\n",
       "Nevada            322809.0\n",
       "New Hampshire     345079.0\n",
       "New Jersey        355423.0\n",
       "New Mexico        215378.0\n",
       "New York          275426.0\n",
       "North Carolina    212247.0\n",
       "North Dakota      241803.0\n",
       "Ohio              157386.0\n",
       "Oklahoma          134995.0\n",
       "Oregon            377275.0\n",
       "Pennsylvania      201300.0\n",
       "Rhode Island      317918.0\n",
       "South Carolina    195761.0\n",
       "South Dakota      217789.0\n",
       "Tennessee         191164.0\n",
       "Texas             213666.0\n",
       "Utah              365960.0\n",
       "Vermont           269754.0\n",
       "Virginia          295926.0\n",
       "Washington        289328.0\n",
       "West Virginia     106840.0\n",
       "Wisconsin         207906.0\n",
       "Wyoming           254065.0\n",
       "Name: 미국집값, dtype: float64"
      ]
     },
     "execution_count": 35,
     "metadata": {},
     "output_type": "execute_result"
    }
   ],
   "source": [
    "미국데이터['미국집값']"
   ]
  },
  {
   "cell_type": "code",
   "execution_count": 17,
   "metadata": {
    "scrolled": true
   },
   "outputs": [],
   "source": [
    "국내집값 = pd.read_csv('국내집값.csv',encoding='CP949')\n",
    "국내집값=국내집값[국내집값['지역별(2)'].isin(['서울','인천','경기','부산','대구','광주','대전','울산','세종','강원','충북','충남','전북','전남','경북','경남','제주'])]\n",
    "국내집값=국내집값.set_index('지역별(2)')\n",
    "국내집값=국내집값.loc[:,['2015. 10','2015. 11','2015. 12',\n",
    "         '2016. 01','2016. 02','2016. 03','2016. 04','2016. 05','2016. 06','2016. 07','2016. 08','2016. 09','2016. 10','2016. 11','2016. 12',\n",
    "         '2017. 01','2017. 02','2017. 03','2017. 04','2017. 05','2017. 06','2017. 07','2017. 08','2017. 09','2017. 10','2017. 11','2017. 12',\n",
    "         '2018. 01','2018. 02','2018. 03','2018. 04','2018. 05','2018. 06','2018. 07','2018. 08','2018. 09','2018. 10','2018. 11','2018. 12',\n",
    "         '2019. 01','2019. 02','2019. 03','2019. 04','2019. 05','2019. 06','2019. 07','2019. 08','2019. 09','2019. 10','2019. 11','2019. 12',\n",
    "         '2020. 01','2020. 02','2020. 03','2020. 04','2020. 05','2020. 06','2020. 07','2020. 08','2020. 09','2020. 10','2020. 11','2020. 12',\n",
    "         '2021. 01','2021. 02']]\n",
    "국내집값=국내집값.fillna(3000)\n",
    "국내집값=국내집값.astype(int)\n",
    "국내인구밀도 = pd.read_csv('국내인구밀도.csv',encoding='CP949')\n",
    "국내인구밀도=국내인구밀도.set_index('지역')\n",
    "국내인구밀도=국내인구밀도.astype(int)"
   ]
  },
  {
   "cell_type": "code",
   "execution_count": 21,
   "metadata": {},
   "outputs": [
    {
     "name": "stderr",
     "output_type": "stream",
     "text": [
      "C:\\Users\\KimSungYong\\anaconda3\\lib\\site-packages\\seaborn\\_decorators.py:36: FutureWarning: Pass the following variables as keyword args: x, y. From version 0.12, the only valid positional argument will be `data`, and passing other arguments without an explicit keyword will result in an error or misinterpretation.\n",
      "  warnings.warn(\n"
     ]
    },
    {
     "data": {
      "image/png": "[encoded data removed]",
      "text/plain": [
       "<Figure size 360x360 with 1 Axes>"
      ]
     },
     "metadata": {
      "needs_background": "light"
     },
     "output_type": "display_data"
    }
   ],
   "source": [
    "data = pd.concat([np.log(국내인구밀도['2020인구밀도']),np.log(국내집값['2020. 01'])],axis=1)\n",
    "g=sns.lmplot('2020인구밀도','2020. 01',data=data,fit_reg=True,scatter_kws={\"s\":150})\n",
    "plt.title(\"title\")\n",
    "plt.show(g)"
   ]
  },
  {
   "cell_type": "code",
   "execution_count": 19,
   "metadata": {},
   "outputs": [
    {
     "data": {
      "text/plain": [
       "<matplotlib.axes._subplots.AxesSubplot at 0x1cc935a5c40>"
      ]
     },
     "execution_count": 19,
     "metadata": {},
     "output_type": "execute_result"
    },
    {
     "data": {
      "image/png": "[encoded data removed]",
      "text/plain": [
       "<Figure size 432x288 with 1 Axes>"
      ]
     },
     "metadata": {
      "needs_background": "light"
     },
     "output_type": "display_data"
    }
   ],
   "source": [
    "sns.histplot(x='2020. 01', data=국내집값)"
   ]
  },
  {
   "cell_type": "code",
   "execution_count": 23,
   "metadata": {},
   "outputs": [
    {
     "data": {
      "text/plain": [
       "지역별(2)\n",
       "서울    8121\n",
       "인천    4005\n",
       "경기    4503\n",
       "부산    3884\n",
       "대구    4420\n",
       "광주    3843\n",
       "대전    3632\n",
       "울산    3143\n",
       "세종    3458\n",
       "강원    2487\n",
       "충북    2305\n",
       "충남    2640\n",
       "전북    2468\n",
       "전남    2485\n",
       "경북    3074\n",
       "경남    3063\n",
       "제주    3955\n",
       "Name: 2020. 01, dtype: int32"
      ]
     },
     "execution_count": 23,
     "metadata": {},
     "output_type": "execute_result"
    }
   ],
   "source": [
    "국내집값['2020. 01']"
   ]
  },
  {
   "cell_type": "code",
   "execution_count": 27,
   "metadata": {},
   "outputs": [
    {
     "data": {
      "text/plain": [
       "<matplotlib.axes._subplots.AxesSubplot at 0x1cc93857a90>"
      ]
     },
     "execution_count": 27,
     "metadata": {},
     "output_type": "execute_result"
    },
    {
     "data": {
      "image/png": "[encoded data removed]",
      "text/plain": [
       "<Figure size 432x288 with 1 Axes>"
      ]
     },
     "metadata": {
      "needs_background": "light"
     },
     "output_type": "display_data"
    }
   ],
   "source": [
    "(국내인구밀도['2020인구']*국내집값['2020. 01']).sort_values().plot(kind='bar')"
   ]
  },
  {
   "cell_type": "code",
   "execution_count": 32,
   "metadata": {},
   "outputs": [
    {
     "data": {
      "text/plain": [
       "2997.5343461370244"
      ]
     },
     "execution_count": 32,
     "metadata": {},
     "output_type": "execute_result"
    }
   ],
   "source": [
    "(국내인구밀도['2020인구']*국내집값['2020. 01']).sum()/국내인구밀도['2020인구'].sum()"
   ]
  },
  {
   "cell_type": "code",
   "execution_count": null,
   "metadata": {},
   "outputs": [],
   "source": []
  }
 ],
 "metadata": {
  "kernelspec": {
   "display_name": "Python 3",
   "language": "python",
   "name": "python3"
  },
  "language_info": {
   "codemirror_mode": {
    "name": "ipython",
    "version": 3
   },
   "file_extension": ".py",
   "mimetype": "text/x-python",
   "name": "python",
   "nbconvert_exporter": "python",
   "pygments_lexer": "ipython3",
   "version": "3.8.3"
  }
 },
 "nbformat": 4,
 "nbformat_minor": 4
}
